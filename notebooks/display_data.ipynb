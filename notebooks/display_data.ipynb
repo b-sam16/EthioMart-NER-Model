{
 "cells": [
  {
   "cell_type": "code",
   "execution_count": 1,
   "metadata": {},
   "outputs": [],
   "source": [
    "# Import pandas library\n",
    "import pandas as pd"
   ]
  },
  {
   "cell_type": "code",
   "execution_count": 2,
   "metadata": {},
   "outputs": [],
   "source": [
    "# Load the scraped data into a DataFrame\n",
    "input_csv = \"../data/raw/telegram_data.csv\"\n",
    "data = pd.read_csv(input_csv)\n",
    "\n",
    "# Load the preprocessed data\n",
    "preprocessed_csv = \"../data/processed/preprocessed_telegram_data.csv\"\n",
    "preprocessed_data = pd.read_csv(preprocessed_csv)"
   ]
  },
  {
   "cell_type": "code",
   "execution_count": 3,
   "metadata": {},
   "outputs": [
    {
     "data": {
      "text/html": [
       "<div>\n",
       "<style scoped>\n",
       "    .dataframe tbody tr th:only-of-type {\n",
       "        vertical-align: middle;\n",
       "    }\n",
       "\n",
       "    .dataframe tbody tr th {\n",
       "        vertical-align: top;\n",
       "    }\n",
       "\n",
       "    .dataframe thead th {\n",
       "        text-align: right;\n",
       "    }\n",
       "</style>\n",
       "<table border=\"1\" class=\"dataframe\">\n",
       "  <thead>\n",
       "    <tr style=\"text-align: right;\">\n",
       "      <th></th>\n",
       "      <th>Channel Title</th>\n",
       "      <th>Channel Username</th>\n",
       "      <th>ID</th>\n",
       "      <th>Message</th>\n",
       "      <th>Date</th>\n",
       "      <th>Media Path</th>\n",
       "    </tr>\n",
       "  </thead>\n",
       "  <tbody>\n",
       "    <tr>\n",
       "      <th>0</th>\n",
       "      <td>HellooMarket</td>\n",
       "      <td>@helloomarketethiopia</td>\n",
       "      <td>4425</td>\n",
       "      <td>ለፀጉሮ ወብት እና ለፀጉሮዎ ልስላሴ ጀኤስቲ የፀጉር ማለስለሻ  ለማዘዝ 0...</td>\n",
       "      <td>2025-01-19 10:39:51</td>\n",
       "      <td>NaN</td>\n",
       "    </tr>\n",
       "    <tr>\n",
       "      <th>1</th>\n",
       "      <td>HellooMarket</td>\n",
       "      <td>@helloomarketethiopia</td>\n",
       "      <td>4424</td>\n",
       "      <td>የወንዶች ባህላዊ አልባሳት!\\nለማዘዝ 8420 ላይ ይደውሉ አልያም የቴሌግ...</td>\n",
       "      <td>2025-01-18 06:17:48</td>\n",
       "      <td>NaN</td>\n",
       "    </tr>\n",
       "    <tr>\n",
       "      <th>2</th>\n",
       "      <td>HellooMarket</td>\n",
       "      <td>@helloomarketethiopia</td>\n",
       "      <td>4423</td>\n",
       "      <td>እንኳን ለከተራ እና ለጥምቀት በዓል በሰላም አደረሰዎ!\\nሃሎ ማርኬት!</td>\n",
       "      <td>2025-01-18 06:15:14</td>\n",
       "      <td>NaN</td>\n",
       "    </tr>\n",
       "    <tr>\n",
       "      <th>3</th>\n",
       "      <td>HellooMarket</td>\n",
       "      <td>@helloomarketethiopia</td>\n",
       "      <td>4420</td>\n",
       "      <td>ለማዘዝ 8420 ይደውሉ: Call 8420 to order \\n● የሚያምሩ የ...</td>\n",
       "      <td>2025-01-17 09:42:36</td>\n",
       "      <td>NaN</td>\n",
       "    </tr>\n",
       "    <tr>\n",
       "      <th>4</th>\n",
       "      <td>HellooMarket</td>\n",
       "      <td>@helloomarketethiopia</td>\n",
       "      <td>4418</td>\n",
       "      <td>ጤናማ ለሰውነት ጠቃሚ ንጥረ—ነገሮችን ያካተተ በፈለጉት ሰዓት የሚያጣጥሙት...</td>\n",
       "      <td>2025-01-16 10:17:04</td>\n",
       "      <td>NaN</td>\n",
       "    </tr>\n",
       "  </tbody>\n",
       "</table>\n",
       "</div>"
      ],
      "text/plain": [
       "  Channel Title       Channel Username    ID  \\\n",
       "0  HellooMarket  @helloomarketethiopia  4425   \n",
       "1  HellooMarket  @helloomarketethiopia  4424   \n",
       "2  HellooMarket  @helloomarketethiopia  4423   \n",
       "3  HellooMarket  @helloomarketethiopia  4420   \n",
       "4  HellooMarket  @helloomarketethiopia  4418   \n",
       "\n",
       "                                             Message                 Date  \\\n",
       "0  ለፀጉሮ ወብት እና ለፀጉሮዎ ልስላሴ ጀኤስቲ የፀጉር ማለስለሻ  ለማዘዝ 0...  2025-01-19 10:39:51   \n",
       "1  የወንዶች ባህላዊ አልባሳት!\\nለማዘዝ 8420 ላይ ይደውሉ አልያም የቴሌግ...  2025-01-18 06:17:48   \n",
       "2       እንኳን ለከተራ እና ለጥምቀት በዓል በሰላም አደረሰዎ!\\nሃሎ ማርኬት!  2025-01-18 06:15:14   \n",
       "3  ለማዘዝ 8420 ይደውሉ: Call 8420 to order \\n● የሚያምሩ የ...  2025-01-17 09:42:36   \n",
       "4  ጤናማ ለሰውነት ጠቃሚ ንጥረ—ነገሮችን ያካተተ በፈለጉት ሰዓት የሚያጣጥሙት...  2025-01-16 10:17:04   \n",
       "\n",
       "   Media Path  \n",
       "0         NaN  \n",
       "1         NaN  \n",
       "2         NaN  \n",
       "3         NaN  \n",
       "4         NaN  "
      ]
     },
     "execution_count": 3,
     "metadata": {},
     "output_type": "execute_result"
    }
   ],
   "source": [
    "# Display the first 5 rows of the DataFrame\n",
    "data.head()"
   ]
  },
  {
   "cell_type": "code",
   "execution_count": 4,
   "metadata": {},
   "outputs": [
    {
     "name": "stdout",
     "output_type": "stream",
     "text": [
      "Checking for NaN values in the 'Message' column:\n",
      "Number of NaN values in 'Message' column: 8100\n"
     ]
    }
   ],
   "source": [
    "print(\"Checking for NaN values in the 'Message' column:\")\n",
    "count_null = data['Message'].isnull().sum()\n",
    "print(f\"Number of NaN values in 'Message' column: {count_null}\")"
   ]
  },
  {
   "cell_type": "code",
   "execution_count": 5,
   "metadata": {},
   "outputs": [
    {
     "data": {
      "text/html": [
       "<div>\n",
       "<style scoped>\n",
       "    .dataframe tbody tr th:only-of-type {\n",
       "        vertical-align: middle;\n",
       "    }\n",
       "\n",
       "    .dataframe tbody tr th {\n",
       "        vertical-align: top;\n",
       "    }\n",
       "\n",
       "    .dataframe thead th {\n",
       "        text-align: right;\n",
       "    }\n",
       "</style>\n",
       "<table border=\"1\" class=\"dataframe\">\n",
       "  <thead>\n",
       "    <tr style=\"text-align: right;\">\n",
       "      <th></th>\n",
       "      <th>Channel Title</th>\n",
       "      <th>Channel Username</th>\n",
       "      <th>ID</th>\n",
       "      <th>Message</th>\n",
       "      <th>Date</th>\n",
       "      <th>Media Path</th>\n",
       "    </tr>\n",
       "  </thead>\n",
       "  <tbody>\n",
       "    <tr>\n",
       "      <th>0</th>\n",
       "      <td>HellooMarket</td>\n",
       "      <td>@helloomarketethiopia</td>\n",
       "      <td>4425</td>\n",
       "      <td>ለፀጉሮ ወብት ለፀጉሮዎ ልስላሴ ጀኤስቲ የፀጉር ማለስለሻ ለማዘዝ 09743...</td>\n",
       "      <td>2025-01-19 10:39:51</td>\n",
       "      <td>NaN</td>\n",
       "    </tr>\n",
       "    <tr>\n",
       "      <th>1</th>\n",
       "      <td>HellooMarket</td>\n",
       "      <td>@helloomarketethiopia</td>\n",
       "      <td>4424</td>\n",
       "      <td>የወንዶች ባህላዊ አልባሳት \\nለማዘዝ 8420 ላይ ይደውሉ አልያም የቴሌግ...</td>\n",
       "      <td>2025-01-18 06:17:48</td>\n",
       "      <td>NaN</td>\n",
       "    </tr>\n",
       "    <tr>\n",
       "      <th>2</th>\n",
       "      <td>HellooMarket</td>\n",
       "      <td>@helloomarketethiopia</td>\n",
       "      <td>4423</td>\n",
       "      <td>እንኳን ለከተራ ለጥምቀት በዓል በሰላም አደረሰዎ \\nሃሎ ማርኬት</td>\n",
       "      <td>2025-01-18 06:15:14</td>\n",
       "      <td>NaN</td>\n",
       "    </tr>\n",
       "    <tr>\n",
       "      <th>3</th>\n",
       "      <td>HellooMarket</td>\n",
       "      <td>@helloomarketethiopia</td>\n",
       "      <td>4420</td>\n",
       "      <td>ለማዘዝ 8420 ይደውሉ call 8420 order \\n የሚያምሩ የሴቶች ባ...</td>\n",
       "      <td>2025-01-17 09:42:36</td>\n",
       "      <td>NaN</td>\n",
       "    </tr>\n",
       "    <tr>\n",
       "      <th>4</th>\n",
       "      <td>HellooMarket</td>\n",
       "      <td>@helloomarketethiopia</td>\n",
       "      <td>4418</td>\n",
       "      <td>ጤናማ ለሰውነት ጠቃሚ ንጥረ ነገሮችን ያካተተ በፈለጉት ሰዓት የሚያጣጥሙት...</td>\n",
       "      <td>2025-01-16 10:17:04</td>\n",
       "      <td>NaN</td>\n",
       "    </tr>\n",
       "  </tbody>\n",
       "</table>\n",
       "</div>"
      ],
      "text/plain": [
       "  Channel Title       Channel Username    ID  \\\n",
       "0  HellooMarket  @helloomarketethiopia  4425   \n",
       "1  HellooMarket  @helloomarketethiopia  4424   \n",
       "2  HellooMarket  @helloomarketethiopia  4423   \n",
       "3  HellooMarket  @helloomarketethiopia  4420   \n",
       "4  HellooMarket  @helloomarketethiopia  4418   \n",
       "\n",
       "                                             Message                 Date  \\\n",
       "0  ለፀጉሮ ወብት ለፀጉሮዎ ልስላሴ ጀኤስቲ የፀጉር ማለስለሻ ለማዘዝ 09743...  2025-01-19 10:39:51   \n",
       "1  የወንዶች ባህላዊ አልባሳት \\nለማዘዝ 8420 ላይ ይደውሉ አልያም የቴሌግ...  2025-01-18 06:17:48   \n",
       "2           እንኳን ለከተራ ለጥምቀት በዓል በሰላም አደረሰዎ \\nሃሎ ማርኬት  2025-01-18 06:15:14   \n",
       "3  ለማዘዝ 8420 ይደውሉ call 8420 order \\n የሚያምሩ የሴቶች ባ...  2025-01-17 09:42:36   \n",
       "4  ጤናማ ለሰውነት ጠቃሚ ንጥረ ነገሮችን ያካተተ በፈለጉት ሰዓት የሚያጣጥሙት...  2025-01-16 10:17:04   \n",
       "\n",
       "   Media Path  \n",
       "0         NaN  \n",
       "1         NaN  \n",
       "2         NaN  \n",
       "3         NaN  \n",
       "4         NaN  "
      ]
     },
     "execution_count": 5,
     "metadata": {},
     "output_type": "execute_result"
    }
   ],
   "source": [
    "# Display the first few rows of the preprocessed data\n",
    "preprocessed_data.head()\n"
   ]
  },
  {
   "cell_type": "code",
   "execution_count": 6,
   "metadata": {},
   "outputs": [
    {
     "data": {
      "text/plain": [
       "0        ለፀጉሮ ወብት ለፀጉሮዎ ልስላሴ ጀኤስቲ የፀጉር ማለስለሻ ለማዘዝ 09743...\n",
       "1        የወንዶች ባህላዊ አልባሳት \\nለማዘዝ 8420 ላይ ይደውሉ አልያም የቴሌግ...\n",
       "2                 እንኳን ለከተራ ለጥምቀት በዓል በሰላም አደረሰዎ \\nሃሎ ማርኬት\n",
       "3        ለማዘዝ 8420 ይደውሉ call 8420 order \\n የሚያምሩ የሴቶች ባ...\n",
       "4        ጤናማ ለሰውነት ጠቃሚ ንጥረ ነገሮችን ያካተተ በፈለጉት ሰዓት የሚያጣጥሙት...\n",
       "                               ...                        \n",
       "13625    ከውኃ ማሰሮ jar ላይ የመጠጥ ዉሃ የሚስብ ተንቀሳቃሽ በኤሌክትሪክ ሃይል...\n",
       "13626    ከውኃ ማሰሮ jar ላይ የመጠጥ ዉሃ የሚስብ ተንቀሳቃሽ በኤሌክትሪክ ሃይል...\n",
       "13627    zemenexpress platform connect suppliers , reta...\n",
       "13628                                                  NaN\n",
       "13629    zemenexpress platform connect suppliers , reta...\n",
       "Name: Message, Length: 13630, dtype: object"
      ]
     },
     "execution_count": 6,
     "metadata": {},
     "output_type": "execute_result"
    }
   ],
   "source": [
    "preprocessed_data['Message']\n"
   ]
  }
 ],
 "metadata": {
  "kernelspec": {
   "display_name": "env",
   "language": "python",
   "name": "python3"
  },
  "language_info": {
   "codemirror_mode": {
    "name": "ipython",
    "version": 3
   },
   "file_extension": ".py",
   "mimetype": "text/x-python",
   "name": "python",
   "nbconvert_exporter": "python",
   "pygments_lexer": "ipython3",
   "version": "3.10.5"
  }
 },
 "nbformat": 4,
 "nbformat_minor": 2
}
